{
 "cells": [
  {
   "cell_type": "code",
   "execution_count": 1,
   "metadata": {},
   "outputs": [],
   "source": [
    "from sklearn.datasets import load_breast_cancer\n",
    "import pandas as pd\n",
    "pd.set_option('display.max_columns', 10)\n",
    "df = load_breast_cancer()\n",
    "x = pd.DataFrame(df.data, columns = [df.feature_names])\n",
    "y = pd.Series(df.target)"
   ]
  },
  {
   "cell_type": "code",
   "execution_count": 2,
   "metadata": {},
   "outputs": [
    {
     "data": {
      "text/html": [
       "<div>\n",
       "<style scoped>\n",
       "    .dataframe tbody tr th:only-of-type {\n",
       "        vertical-align: middle;\n",
       "    }\n",
       "\n",
       "    .dataframe tbody tr th {\n",
       "        vertical-align: top;\n",
       "    }\n",
       "\n",
       "    .dataframe thead tr th {\n",
       "        text-align: left;\n",
       "    }\n",
       "</style>\n",
       "<table border=\"1\" class=\"dataframe\">\n",
       "  <thead>\n",
       "    <tr>\n",
       "      <th></th>\n",
       "      <th>mean radius</th>\n",
       "      <th>mean texture</th>\n",
       "      <th>mean perimeter</th>\n",
       "      <th>mean area</th>\n",
       "      <th>mean smoothness</th>\n",
       "      <th>...</th>\n",
       "      <th>worst compactness</th>\n",
       "      <th>worst concavity</th>\n",
       "      <th>worst concave points</th>\n",
       "      <th>worst symmetry</th>\n",
       "      <th>worst fractal dimension</th>\n",
       "    </tr>\n",
       "  </thead>\n",
       "  <tbody>\n",
       "    <tr>\n",
       "      <th>0</th>\n",
       "      <td>17.99</td>\n",
       "      <td>10.38</td>\n",
       "      <td>122.80</td>\n",
       "      <td>1001.0</td>\n",
       "      <td>0.11840</td>\n",
       "      <td>...</td>\n",
       "      <td>0.6656</td>\n",
       "      <td>0.7119</td>\n",
       "      <td>0.2654</td>\n",
       "      <td>0.4601</td>\n",
       "      <td>0.11890</td>\n",
       "    </tr>\n",
       "    <tr>\n",
       "      <th>1</th>\n",
       "      <td>20.57</td>\n",
       "      <td>17.77</td>\n",
       "      <td>132.90</td>\n",
       "      <td>1326.0</td>\n",
       "      <td>0.08474</td>\n",
       "      <td>...</td>\n",
       "      <td>0.1866</td>\n",
       "      <td>0.2416</td>\n",
       "      <td>0.1860</td>\n",
       "      <td>0.2750</td>\n",
       "      <td>0.08902</td>\n",
       "    </tr>\n",
       "    <tr>\n",
       "      <th>2</th>\n",
       "      <td>19.69</td>\n",
       "      <td>21.25</td>\n",
       "      <td>130.00</td>\n",
       "      <td>1203.0</td>\n",
       "      <td>0.10960</td>\n",
       "      <td>...</td>\n",
       "      <td>0.4245</td>\n",
       "      <td>0.4504</td>\n",
       "      <td>0.2430</td>\n",
       "      <td>0.3613</td>\n",
       "      <td>0.08758</td>\n",
       "    </tr>\n",
       "    <tr>\n",
       "      <th>3</th>\n",
       "      <td>11.42</td>\n",
       "      <td>20.38</td>\n",
       "      <td>77.58</td>\n",
       "      <td>386.1</td>\n",
       "      <td>0.14250</td>\n",
       "      <td>...</td>\n",
       "      <td>0.8663</td>\n",
       "      <td>0.6869</td>\n",
       "      <td>0.2575</td>\n",
       "      <td>0.6638</td>\n",
       "      <td>0.17300</td>\n",
       "    </tr>\n",
       "    <tr>\n",
       "      <th>4</th>\n",
       "      <td>20.29</td>\n",
       "      <td>14.34</td>\n",
       "      <td>135.10</td>\n",
       "      <td>1297.0</td>\n",
       "      <td>0.10030</td>\n",
       "      <td>...</td>\n",
       "      <td>0.2050</td>\n",
       "      <td>0.4000</td>\n",
       "      <td>0.1625</td>\n",
       "      <td>0.2364</td>\n",
       "      <td>0.07678</td>\n",
       "    </tr>\n",
       "  </tbody>\n",
       "</table>\n",
       "<p>5 rows × 30 columns</p>\n",
       "</div>"
      ],
      "text/plain": [
       "  mean radius mean texture mean perimeter mean area mean smoothness  ...  \\\n",
       "0       17.99        10.38         122.80    1001.0         0.11840  ...   \n",
       "1       20.57        17.77         132.90    1326.0         0.08474  ...   \n",
       "2       19.69        21.25         130.00    1203.0         0.10960  ...   \n",
       "3       11.42        20.38          77.58     386.1         0.14250  ...   \n",
       "4       20.29        14.34         135.10    1297.0         0.10030  ...   \n",
       "\n",
       "  worst compactness worst concavity worst concave points worst symmetry  \\\n",
       "0            0.6656          0.7119               0.2654         0.4601   \n",
       "1            0.1866          0.2416               0.1860         0.2750   \n",
       "2            0.4245          0.4504               0.2430         0.3613   \n",
       "3            0.8663          0.6869               0.2575         0.6638   \n",
       "4            0.2050          0.4000               0.1625         0.2364   \n",
       "\n",
       "  worst fractal dimension  \n",
       "0                 0.11890  \n",
       "1                 0.08902  \n",
       "2                 0.08758  \n",
       "3                 0.17300  \n",
       "4                 0.07678  \n",
       "\n",
       "[5 rows x 30 columns]"
      ]
     },
     "execution_count": 2,
     "metadata": {},
     "output_type": "execute_result"
    }
   ],
   "source": [
    "x.head()"
   ]
  },
  {
   "cell_type": "code",
   "execution_count": 3,
   "metadata": {},
   "outputs": [],
   "source": [
    "from sklearn.preprocessing import MinMaxScaler\n",
    "normalizador = MinMaxScaler(feature_range = (0,1))\n",
    "x_norm = normalizador.fit_transform(x)"
   ]
  },
  {
   "cell_type": "code",
   "execution_count": 28,
   "metadata": {},
   "outputs": [
    {
     "name": "stdout",
     "output_type": "stream",
     "text": [
      "[[0.50483563 0.39560329 0.50578661 0.36376576 0.46988732 0.42226302\n",
      "  0.41838662 0.46928035 0.45899738 0.29945886 0.19093085 0.19112073\n",
      "  0.17903433 0.13086432 0.18017962 0.25890126 0.12542475 0.30942779\n",
      "  0.190072   0.13266975 0.48047448 0.45107371 0.4655302  0.31460597\n",
      "  0.49868817 0.36391461 0.39027292 0.65827197 0.33752296 0.26041387]\n",
      " [0.25535358 0.28833455 0.24696416 0.14388369 0.35743076 0.18019471\n",
      "  0.10344776 0.1306603  0.34011829 0.25591606 0.06427485 0.18843043\n",
      "  0.05975663 0.02870108 0.18158628 0.13242941 0.05821528 0.18069336\n",
      "  0.17221057 0.08403996 0.2052406  0.32069002 0.19242138 0.09943446\n",
      "  0.3571115  0.14873935 0.13142287 0.26231363 0.22639412 0.15437354]]\n"
     ]
    }
   ],
   "source": [
    "from sklearn.cluster import KMeans\n",
    "modelo = KMeans(n_clusters = 2, random_state = 15)\n",
    "modelo.fit(x_norm)\n",
    "\n",
    "print(modelo.cluster_centers_)"
   ]
  },
  {
   "cell_type": "code",
   "execution_count": 29,
   "metadata": {},
   "outputs": [
    {
     "name": "stdout",
     "output_type": "stream",
     "text": [
      "0.9279437609841827\n"
     ]
    }
   ],
   "source": [
    "clusters = modelo.predict(x_norm)\n",
    "\n",
    "from sklearn.metrics import accuracy_score\n",
    "print(accuracy_score(y, clusters))"
   ]
  },
  {
   "cell_type": "code",
   "execution_count": 26,
   "metadata": {},
   "outputs": [
    {
     "name": "stdout",
     "output_type": "stream",
     "text": [
      "[[0.60746655 0.41285811 0.60412204 0.46401606 0.44084025 0.40220719\n",
      "  0.42966261 0.52203076 0.43287338 0.22057784 0.24153734 0.19412401\n",
      "  0.22440445 0.17826652 0.16831466 0.23117247 0.11045207 0.30779724\n",
      "  0.17608086 0.10831564 0.58101464 0.45240158 0.5575379  0.40473191\n",
      "  0.45265847 0.31918203 0.36195658 0.67762641 0.29811009 0.19798636]\n",
      " [0.25724828 0.28710408 0.24811606 0.14533507 0.3504499  0.16938359\n",
      "  0.09500438 0.12511818 0.33460925 0.24360571 0.06453055 0.18689068\n",
      "  0.05899374 0.02911313 0.17803893 0.12252456 0.05391389 0.17487179\n",
      "  0.17145216 0.07725531 0.20673403 0.31839935 0.19261204 0.1005868\n",
      "  0.348234   0.13842304 0.12103526 0.25288623 0.22316342 0.14417805]\n",
      " [0.32859804 0.35886949 0.33550506 0.19783095 0.50776948 0.43840645\n",
      "  0.37465026 0.36156033 0.48666351 0.42916096 0.1058611  0.19287455\n",
      "  0.10536427 0.05379246 0.20764    0.30346698 0.14576599 0.30774294\n",
      "  0.20571187 0.17697134 0.30308831 0.43233331 0.30341816 0.16253973\n",
      "  0.55775221 0.41230944 0.41113968 0.59277599 0.37365916 0.35059811]]\n"
     ]
    }
   ],
   "source": [
    "from sklearn.cluster import KMeans\n",
    "modelo = KMeans(n_clusters = 3, random_state = 20)\n",
    "modelo.fit(x_norm)\n",
    "\n",
    "print(modelo.cluster_centers_)"
   ]
  },
  {
   "cell_type": "code",
   "execution_count": 27,
   "metadata": {},
   "outputs": [
    {
     "name": "stdout",
     "output_type": "stream",
     "text": [
      "0.7803163444639719\n"
     ]
    }
   ],
   "source": [
    "clusters = modelo.predict(x_norm)\n",
    "\n",
    "from sklearn.metrics import accuracy_score\n",
    "print(accuracy_score(y, clusters))"
   ]
  },
  {
   "cell_type": "code",
   "execution_count": null,
   "metadata": {},
   "outputs": [],
   "source": []
  }
 ],
 "metadata": {
  "kernelspec": {
   "display_name": "Python 3",
   "language": "python",
   "name": "python3"
  },
  "language_info": {
   "codemirror_mode": {
    "name": "ipython",
    "version": 3
   },
   "file_extension": ".py",
   "mimetype": "text/x-python",
   "name": "python",
   "nbconvert_exporter": "python",
   "pygments_lexer": "ipython3",
   "version": "3.8.5"
  }
 },
 "nbformat": 4,
 "nbformat_minor": 4
}
